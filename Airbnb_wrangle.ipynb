{
 "cells": [
  {
   "cell_type": "markdown",
   "metadata": {},
   "source": [
    "# Airbnb data wrangling\n",
    "### imports"
   ]
  },
  {
   "cell_type": "code",
   "execution_count": 14,
   "metadata": {},
   "outputs": [],
   "source": [
    "import pandas as pd\n",
    "import numpy as np\n",
    "import matplotlib.pyplot as plt\n",
    "import seaborn as sns\n",
    "sns.set_style('darkgrid')\n",
    "%matplotlib inline"
   ]
  },
  {
   "cell_type": "markdown",
   "metadata": {},
   "source": [
    "### Calendar"
   ]
  },
  {
   "cell_type": "code",
   "execution_count": 15,
   "metadata": {},
   "outputs": [
    {
     "name": "stdout",
     "output_type": "stream",
     "text": [
      "<class 'pandas.core.frame.DataFrame'>\n",
      "RangeIndex: 1308890 entries, 0 to 1308889\n",
      "Data columns (total 5 columns):\n",
      "listing_id    1308890 non-null int64\n",
      "date          1308890 non-null object\n",
      "available     1308890 non-null object\n",
      "price         643037 non-null object\n",
      "City          1308890 non-null object\n",
      "dtypes: int64(1), object(4)\n",
      "memory usage: 49.9+ MB\n",
      "The minimum date is 2016-09-06 and the maximum date is 2017-09-05\n"
     ]
    },
    {
     "data": {
      "text/plain": [
       "(   listing_id        date available price    City\n",
       " 0    12147973  2017-09-05         f   NaN  Boston\n",
       " 1    12147973  2017-09-04         f   NaN  Boston\n",
       " 2    12147973  2017-09-03         f   NaN  Boston\n",
       " 3    12147973  2017-09-02         f   NaN  Boston\n",
       " 4    12147973  2017-09-01         f   NaN  Boston, None, None)"
      ]
     },
     "execution_count": 15,
     "metadata": {},
     "output_type": "execute_result"
    }
   ],
   "source": [
    "# Initial look at the boston calendar data\n",
    "dfb_cal = pd.read_csv('boston_calendar.csv')\n",
    "dfb_cal['City'] = 'Boston'\n",
    "dfb_cal.head(), dfb_cal.info(), print('The minimum date is {} and the maximum date is {}'.format(dfb_cal['date'].min(), dfb_cal.date.max()))"
   ]
  },
  {
   "cell_type": "code",
   "execution_count": 16,
   "metadata": {},
   "outputs": [
    {
     "name": "stdout",
     "output_type": "stream",
     "text": [
      "<class 'pandas.core.frame.DataFrame'>\n",
      "RangeIndex: 1393570 entries, 0 to 1393569\n",
      "Data columns (total 5 columns):\n",
      "listing_id    1393570 non-null int64\n",
      "date          1393570 non-null object\n",
      "available     1393570 non-null object\n",
      "price         934542 non-null object\n",
      "City          1393570 non-null object\n",
      "dtypes: int64(1), object(4)\n",
      "memory usage: 53.2+ MB\n",
      "The minimum date is 2016-01-04 and the maximum date is 2017-01-02\n"
     ]
    },
    {
     "data": {
      "text/plain": [
       "(   listing_id        date available   price     City\n",
       " 0      241032  2016-01-04         t  $85.00  Seattle\n",
       " 1      241032  2016-01-05         t  $85.00  Seattle\n",
       " 2      241032  2016-01-06         f     NaN  Seattle\n",
       " 3      241032  2016-01-07         f     NaN  Seattle\n",
       " 4      241032  2016-01-08         f     NaN  Seattle, None, None)"
      ]
     },
     "execution_count": 16,
     "metadata": {},
     "output_type": "execute_result"
    }
   ],
   "source": [
    "dfs_cal = pd.read_csv('Seattle_calendar.csv')\n",
    "dfs_cal['City'] = 'Seattle'\n",
    "dfs_cal.head(), dfs_cal.info(), print('The minimum date is {} and the maximum date is {}'.format(dfs_cal['date'].min(), dfs_cal.date.max()))"
   ]
  },
  {
   "cell_type": "code",
   "execution_count": 17,
   "metadata": {},
   "outputs": [
    {
     "name": "stdout",
     "output_type": "stream",
     "text": [
      "min date is: 2016-01-04 00:00:00 and the max date is: 2017-09-05 00:00:00\n"
     ]
    }
   ],
   "source": [
    "df_cal = pd.concat([dfb_cal, dfs_cal], axis=0) # Merge both calendar dataframes\n",
    "df_cal['date'] = pd.to_datetime(df_cal['date']) # alter [date] to datetime \n",
    "df_cal.drop(['price'], axis=1, inplace=True) # drop price. We will get that from definitions\n",
    "# Dummy the occupied column\n",
    "df_cal = pd.concat([df_cal.drop('available', axis=1), pd.get_dummies(df_cal['available'], prefix='available', prefix_sep='_', drop_first=False, dummy_na=False)], axis=1)\n",
    "df_cal.drop(['available_t'], axis=1, inplace=True)\n",
    "df_cal.rename(columns={'available_f':'Occupied'}, inplace=True)\n",
    "print('min date is: {} and the max date is: {}'.format(df_cal['date'].min(), df_cal['date'].max()))\n",
    "df_cal.to_csv('airbnb_calendar.csv')"
   ]
  },
  {
   "cell_type": "markdown",
   "metadata": {},
   "source": [
    "### Listings"
   ]
  },
  {
   "cell_type": "code",
   "execution_count": 18,
   "metadata": {},
   "outputs": [
    {
     "name": "stdout",
     "output_type": "stream",
     "text": [
      "<class 'pandas.core.frame.DataFrame'>\n",
      "Int64Index: 7403 entries, 0 to 3817\n",
      "Data columns (total 95 columns):\n",
      "access                              2096 non-null object\n",
      "accommodates                        7403 non-null int64\n",
      "amenities                           7403 non-null object\n",
      "availability_30                     7403 non-null int64\n",
      "availability_365                    7403 non-null int64\n",
      "availability_60                     7403 non-null int64\n",
      "availability_90                     7403 non-null int64\n",
      "bathrooms                           7373 non-null float64\n",
      "bed_type                            7403 non-null object\n",
      "bedrooms                            7387 non-null float64\n",
      "beds                                7393 non-null float64\n",
      "calculated_host_listings_count      7403 non-null int64\n",
      "calendar_last_scraped               7403 non-null object\n",
      "calendar_updated                    7403 non-null object\n",
      "cancellation_policy                 7403 non-null object\n",
      "city                                7401 non-null object\n",
      "cleaning_fee                        5266 non-null object\n",
      "country                             7403 non-null object\n",
      "country_code                        7403 non-null object\n",
      "description                         7403 non-null object\n",
      "experiences_offered                 7403 non-null object\n",
      "extra_people                        7403 non-null object\n",
      "first_review                        6020 non-null object\n",
      "guests_included                     7403 non-null int64\n",
      "has_availability                    3818 non-null object\n",
      "host_about                          5235 non-null object\n",
      "host_acceptance_rate                6159 non-null object\n",
      "host_has_profile_pic                7401 non-null object\n",
      "host_id                             7403 non-null int64\n",
      "host_identity_verified              7401 non-null object\n",
      "host_is_superhost                   7401 non-null object\n",
      "host_listings_count                 7401 non-null float64\n",
      "host_location                       7384 non-null object\n",
      "host_name                           7401 non-null object\n",
      "host_neighbourhood                  6764 non-null object\n",
      "host_picture_url                    7401 non-null object\n",
      "host_response_rate                  6409 non-null object\n",
      "host_response_time                  6409 non-null object\n",
      "host_since                          7401 non-null object\n",
      "host_thumbnail_url                  7401 non-null object\n",
      "host_total_listings_count           7401 non-null float64\n",
      "host_url                            7403 non-null object\n",
      "host_verifications                  7403 non-null object\n",
      "house_rules                         2393 non-null object\n",
      "id                                  7403 non-null int64\n",
      "instant_bookable                    7403 non-null object\n",
      "interaction                         2031 non-null object\n",
      "is_location_exact                   7403 non-null object\n",
      "jurisdiction_names                  3818 non-null object\n",
      "last_review                         6020 non-null object\n",
      "last_scraped                        7403 non-null object\n",
      "latitude                            7403 non-null float64\n",
      "license                             0 non-null float64\n",
      "listing_url                         7403 non-null object\n",
      "longitude                           7403 non-null float64\n",
      "market                              7389 non-null object\n",
      "maximum_nights                      7403 non-null int64\n",
      "medium_url                          6484 non-null object\n",
      "minimum_nights                      7403 non-null int64\n",
      "monthly_price                       2405 non-null object\n",
      "name                                7403 non-null object\n",
      "neighborhood_overview               4956 non-null object\n",
      "neighbourhood                       6444 non-null object\n",
      "neighbourhood_cleansed              7403 non-null object\n",
      "neighbourhood_group_cleansed        3818 non-null object\n",
      "notes                               3822 non-null object\n",
      "number_of_reviews                   7403 non-null int64\n",
      "picture_url                         7403 non-null object\n",
      "price                               7403 non-null object\n",
      "property_type                       7399 non-null object\n",
      "require_guest_phone_verification    7403 non-null object\n",
      "require_guest_profile_picture       7403 non-null object\n",
      "requires_license                    7403 non-null object\n",
      "review_scores_accuracy              5922 non-null float64\n",
      "review_scores_checkin               5925 non-null float64\n",
      "review_scores_cleanliness           5932 non-null float64\n",
      "review_scores_communication         5934 non-null float64\n",
      "review_scores_location              5926 non-null float64\n",
      "review_scores_rating                5943 non-null float64\n",
      "review_scores_value                 5926 non-null float64\n",
      "reviews_per_month                   6020 non-null float64\n",
      "room_type                           7403 non-null object\n",
      "scrape_id                           7403 non-null int64\n",
      "security_deposit                    3208 non-null object\n",
      "smart_location                      7403 non-null object\n",
      "space                               5777 non-null object\n",
      "square_feet                         153 non-null float64\n",
      "state                               7403 non-null object\n",
      "street                              7403 non-null object\n",
      "summary                             7083 non-null object\n",
      "thumbnail_url                       6484 non-null object\n",
      "transit                             5179 non-null object\n",
      "weekly_price                        2901 non-null object\n",
      "xl_picture_url                      6484 non-null object\n",
      "zipcode                             7358 non-null object\n",
      "dtypes: float64(17), int64(13), object(65)\n",
      "memory usage: 5.4+ MB\n"
     ]
    }
   ],
   "source": [
    "dfb_list = pd.read_csv('boston_listings.csv')\n",
    "dfs_list = pd.read_csv('seattle_listings.csv')\n",
    "df_list = pd.concat([dfb_list, dfs_list], axis=0, sort=True) # Merge both calendar dataframes\n",
    "df_list.info()"
   ]
  },
  {
   "cell_type": "code",
   "execution_count": 19,
   "metadata": {},
   "outputs": [
    {
     "name": "stdout",
     "output_type": "stream",
     "text": [
      "<class 'pandas.core.frame.DataFrame'>\n",
      "Int64Index: 7403 entries, 0 to 3817\n",
      "Data columns (total 35 columns):\n",
      "id                                  7403 non-null int64\n",
      "host_response_rate                  6409 non-null object\n",
      "host_acceptance_rate                6159 non-null object\n",
      "host_is_superhost                   7401 non-null object\n",
      "host_listings_count                 7401 non-null float64\n",
      "neighbourhood_cleansed              7403 non-null object\n",
      "latitude                            7403 non-null float64\n",
      "longitude                           7403 non-null float64\n",
      "property_type                       7399 non-null object\n",
      "room_type                           7403 non-null object\n",
      "accommodates                        7403 non-null int64\n",
      "bathrooms                           7373 non-null float64\n",
      "beds                                7393 non-null float64\n",
      "bed_type                            7403 non-null object\n",
      "price                               7403 non-null object\n",
      "security_deposit                    3208 non-null object\n",
      "cleaning_fee                        5266 non-null object\n",
      "guests_included                     7403 non-null int64\n",
      "extra_people                        7403 non-null object\n",
      "minimum_nights                      7403 non-null int64\n",
      "maximum_nights                      7403 non-null int64\n",
      "number_of_reviews                   7403 non-null int64\n",
      "review_scores_rating                5943 non-null float64\n",
      "review_scores_accuracy              5922 non-null float64\n",
      "review_scores_cleanliness           5932 non-null float64\n",
      "review_scores_checkin               5925 non-null float64\n",
      "review_scores_communication         5934 non-null float64\n",
      "review_scores_location              5926 non-null float64\n",
      "review_scores_value                 5926 non-null float64\n",
      "instant_bookable                    7403 non-null object\n",
      "cancellation_policy                 7403 non-null object\n",
      "require_guest_phone_verification    7403 non-null object\n",
      "require_guest_profile_picture       7403 non-null object\n",
      "requires_license                    7403 non-null object\n",
      "reviews_per_month                   6020 non-null float64\n",
      "dtypes: float64(13), int64(6), object(16)\n",
      "memory usage: 2.0+ MB\n"
     ]
    },
    {
     "data": {
      "text/plain": [
       "(None, count       7403\n",
       " unique       366\n",
       " top       150.00\n",
       " freq         306\n",
       " Name: price, dtype: object)"
      ]
     },
     "execution_count": 19,
     "metadata": {},
     "output_type": "execute_result"
    }
   ],
   "source": [
    "# I reviewed the file in order to choose the following columns to keep\n",
    "df = df_list[['id','host_response_rate','host_acceptance_rate', 'host_is_superhost', 'host_listings_count', 'neighbourhood_cleansed', 'latitude', 'longitude', 'property_type', 'room_type', 'accommodates', 'bathrooms', 'beds', 'bed_type', 'price', 'security_deposit', 'cleaning_fee', 'guests_included', 'extra_people', 'minimum_nights', 'maximum_nights', 'number_of_reviews', 'review_scores_rating', 'review_scores_accuracy', 'review_scores_cleanliness', 'review_scores_checkin', 'review_scores_communication', 'review_scores_location', 'review_scores_value', 'instant_bookable', 'cancellation_policy', 'require_guest_phone_verification', 'require_guest_profile_picture', 'requires_license', 'reviews_per_month']].copy()\n",
    "\n",
    "b = {'$':'', ',':''}\n",
    "for x,y in b.items():\n",
    "    df['price'] = df['price'].str.replace(x,y)\n",
    "    df['security_deposit'] = df['security_deposit'].str.replace(x,y)\n",
    "    df['cleaning_fee'] = df['cleaning_fee'].str.replace(x,y)\n",
    "    df['extra_people'] = df['extra_people'].str.replace(x,y)\n",
    "\n",
    "df.info(), df['price'].describe()"
   ]
  },
  {
   "cell_type": "code",
   "execution_count": 20,
   "metadata": {},
   "outputs": [],
   "source": [
    "df.to_csv('airbnb_listings.csv')"
   ]
  },
  {
   "cell_type": "markdown",
   "metadata": {},
   "source": [
    "### Reviews"
   ]
  },
  {
   "cell_type": "code",
   "execution_count": 21,
   "metadata": {},
   "outputs": [
    {
     "name": "stdout",
     "output_type": "stream",
     "text": [
      "<class 'pandas.core.frame.DataFrame'>\n",
      "Int64Index: 153124 entries, 0 to 84848\n",
      "Data columns (total 6 columns):\n",
      "comments         153053 non-null object\n",
      "date             153124 non-null object\n",
      "id               153124 non-null int64\n",
      "listing_id       153124 non-null int64\n",
      "reviewer_id      153124 non-null int64\n",
      "reviewer_name    153124 non-null object\n",
      "dtypes: int64(3), object(3)\n",
      "memory usage: 8.2+ MB\n"
     ]
    },
    {
     "data": {
      "text/plain": [
       "(                                            comments        date       id  \\\n",
       " 0  My stay at islam's place was really cool! Good...  2013-05-21  4724140   \n",
       " 1  Great location for both airport and city - gre...  2013-05-29  4869189   \n",
       " 2  We really enjoyed our stay at Islams house. Fr...  2013-06-06  5003196   \n",
       " 3  The room was nice and clean and so were the co...  2013-06-15  5150351   \n",
       " 4  Great location. Just 5 mins walk from the Airp...  2013-06-16  5171140   \n",
       " \n",
       "    listing_id  reviewer_id reviewer_name  \n",
       " 0     1178162      4298113       Olivier  \n",
       " 1     1178162      6452964     Charlotte  \n",
       " 2     1178162      6449554     Sebastian  \n",
       " 3     1178162      2215611        Marine  \n",
       " 4     1178162      6848427        Andrew  , None)"
      ]
     },
     "execution_count": 21,
     "metadata": {},
     "output_type": "execute_result"
    }
   ],
   "source": [
    "dfb_reviews = pd.read_csv('boston_reviews.csv')\n",
    "dfs_reviews = pd.read_csv('seattle_reviews.csv')\n",
    "df = pd.concat([dfb_reviews, dfs_reviews], axis=0, sort=True)\n",
    "df.head(), df.info()"
   ]
  },
  {
   "cell_type": "code",
   "execution_count": 22,
   "metadata": {},
   "outputs": [],
   "source": [
    "df.to_csv('airbnb_reviews.csv')"
   ]
  },
  {
   "cell_type": "code",
   "execution_count": null,
   "metadata": {},
   "outputs": [],
   "source": []
  }
 ],
 "metadata": {
  "kernelspec": {
   "display_name": "Python 3",
   "language": "python",
   "name": "python3"
  },
  "language_info": {
   "codemirror_mode": {
    "name": "ipython",
    "version": 3
   },
   "file_extension": ".py",
   "mimetype": "text/x-python",
   "name": "python",
   "nbconvert_exporter": "python",
   "pygments_lexer": "ipython3",
   "version": "3.7.4"
  }
 },
 "nbformat": 4,
 "nbformat_minor": 4
}
