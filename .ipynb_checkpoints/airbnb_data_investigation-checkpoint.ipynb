{
 "cells": [
  {
   "cell_type": "markdown",
   "metadata": {},
   "source": [
    "# Airbnb\n",
    "### Imports"
   ]
  },
  {
   "cell_type": "code",
   "execution_count": 2,
   "metadata": {},
   "outputs": [],
   "source": [
    "import pandas as pd\n",
    "import numpy as np\n",
    "import matplotlib.pyplot as plt\n",
    "import seaborn as sns\n",
    "sns.set_style('darkgrid')\n",
    "%matplotlib inline"
   ]
  },
  {
   "cell_type": "markdown",
   "metadata": {},
   "source": [
    "### Q1. Does Airbnb have seasonality to their availability?"
   ]
  },
  {
   "cell_type": "code",
   "execution_count": 5,
   "metadata": {},
   "outputs": [
    {
     "name": "stdout",
     "output_type": "stream",
     "text": [
      "<class 'pandas.core.frame.DataFrame'>\n",
      "RangeIndex: 2702460 entries, 0 to 2702459\n",
      "Data columns (total 5 columns):\n",
      "Unnamed: 0     int64\n",
      "listing_id     int64\n",
      "date           object\n",
      "City           object\n",
      "available_t    int64\n",
      "dtypes: int64(3), object(2)\n",
      "memory usage: 103.1+ MB\n"
     ]
    }
   ],
   "source": [
    "df = pd.read_csv('airbnb_calendar.csv')\n",
    "df.info()"
   ]
  },
  {
   "cell_type": "code",
   "execution_count": 63,
   "metadata": {},
   "outputs": [
    {
     "data": {
      "image/png": "[encoded data removed]",
      "text/plain": [
       "<Figure size 720x360 with 1 Axes>"
      ]
     },
     "metadata": {
      "needs_background": "light"
     },
     "output_type": "display_data"
    }
   ],
   "source": [
    "plt.figure(figsize=(10,5))\n",
    "plt.plot_date(df['date'].unique(), df.groupby(['date']).mean()['available_t'], color='yellow')\n",
    "plt.plot_date(df[df['City']=='Boston']['date'].unique(), df[df['City']=='Boston'].groupby(['date']).mean()['available_t'], color='green')\n",
    "plt.plot_date(df[df['City']=='Seattle']['date'].unique(), df[df['City']=='Seattle'].groupby(['date']).mean()['available_t'], color='blue')\n",
    "plt.title('Availability')\n",
    "plt.ylabel('% Available')\n",
    "plt.xlabel('date')\n",
    "plt.show();"
   ]
  },
  {
   "cell_type": "markdown",
   "metadata": {},
   "source": [
    "Although some seasonality appears to exist, we may want to categorize the listings a little for better insight"
   ]
  },
  {
   "cell_type": "code",
   "execution_count": 74,
   "metadata": {},
   "outputs": [],
   "source": [
    "dfl = pd.read_csv('airbnb_listings.csv')"
   ]
  },
  {
   "cell_type": "code",
   "execution_count": 71,
   "metadata": {},
   "outputs": [
    {
     "data": {
      "text/plain": [
       "property_type    room_type      \n",
       "Apartment        Entire home/apt    3192\n",
       "                 Private room       1015\n",
       "                 Shared room         113\n",
       "Bed & Breakfast  Entire home/apt       5\n",
       "                 Private room         71\n",
       "                 Shared room           2\n",
       "Boat             Entire home/apt      14\n",
       "                 Private room          6\n",
       "Bungalow         Entire home/apt      12\n",
       "                 Private room          1\n",
       "Cabin            Entire home/apt      16\n",
       "                 Private room          5\n",
       "Camper/RV        Entire home/apt      10\n",
       "                 Private room          3\n",
       "                 Shared room           1\n",
       "Chalet           Entire home/apt       1\n",
       "                 Private room          1\n",
       "Condominium      Entire home/apt     222\n",
       "                 Private room         97\n",
       "                 Shared room           3\n",
       "Dorm             Private room          2\n",
       "                 Shared room           2\n",
       "Entire Floor     Entire home/apt       2\n",
       "                 Private room          2\n",
       "Guesthouse       Entire home/apt       1\n",
       "House            Entire home/apt    1042\n",
       "                 Private room       1189\n",
       "                 Shared room          64\n",
       "Loft             Entire home/apt      59\n",
       "                 Private room         17\n",
       "                 Shared room           3\n",
       "Other            Entire home/apt      14\n",
       "                 Private room         19\n",
       "                 Shared room           6\n",
       "Tent             Entire home/apt       3\n",
       "                 Private room          1\n",
       "                 Shared room           1\n",
       "Townhouse        Entire home/apt      68\n",
       "                 Private room        102\n",
       "                 Shared room           2\n",
       "Treehouse        Entire home/apt       1\n",
       "                 Private room          2\n",
       "Villa            Entire home/apt       2\n",
       "                 Private room          4\n",
       "Yurt             Entire home/apt       1\n",
       "Name: id, dtype: int64"
      ]
     },
     "execution_count": 71,
     "metadata": {},
     "output_type": "execute_result"
    }
   ],
   "source": [
    "dfl.groupby(['property_type', 'room_type']).count()['id']"
   ]
  },
  {
   "cell_type": "markdown",
   "metadata": {},
   "source": [
    "For the purposes of this investigation, we will focus on completely stationary rentals (no RVs, tents, etc)"
   ]
  },
  {
   "cell_type": "code",
   "execution_count": 90,
   "metadata": {},
   "outputs": [
    {
     "name": "stdout",
     "output_type": "stream",
     "text": [
      "<class 'pandas.core.frame.DataFrame'>\n",
      "Int64Index: 7320 entries, 0 to 7402\n",
      "Data columns (total 36 columns):\n",
      "Unnamed: 0                          7320 non-null int64\n",
      "id                                  7320 non-null int64\n",
      "host_response_rate                  6342 non-null object\n",
      "host_acceptance_rate                6097 non-null object\n",
      "host_is_superhost                   7318 non-null object\n",
      "host_listings_count                 7318 non-null float64\n",
      "neighbourhood_cleansed              7320 non-null object\n",
      "latitude                            7320 non-null float64\n",
      "longitude                           7320 non-null float64\n",
      "property_type                       7320 non-null object\n",
      "room_type                           7320 non-null object\n",
      "accommodates                        7320 non-null int64\n",
      "bathrooms                           7320 non-null float64\n",
      "beds                                7320 non-null float64\n",
      "bed_type                            7320 non-null object\n",
      "price                               7320 non-null float64\n",
      "security_deposit                    7320 non-null float64\n",
      "cleaning_fee                        7320 non-null float64\n",
      "guests_included                     7320 non-null int64\n",
      "extra_people                        7320 non-null float64\n",
      "minimum_nights                      7320 non-null int64\n",
      "maximum_nights                      7320 non-null int64\n",
      "number_of_reviews                   7320 non-null int64\n",
      "review_scores_rating                5882 non-null float64\n",
      "review_scores_accuracy              5862 non-null float64\n",
      "review_scores_cleanliness           5871 non-null float64\n",
      "review_scores_checkin               5864 non-null float64\n",
      "review_scores_communication         5873 non-null float64\n",
      "review_scores_location              5865 non-null float64\n",
      "review_scores_value                 5865 non-null float64\n",
      "instant_bookable                    7320 non-null object\n",
      "cancellation_policy                 7320 non-null object\n",
      "require_guest_phone_verification    7320 non-null object\n",
      "require_guest_profile_picture       7320 non-null object\n",
      "requires_license                    7320 non-null object\n",
      "reviews_per_month                   5958 non-null float64\n",
      "dtypes: float64(17), int64(7), object(12)\n",
      "memory usage: 2.1+ MB\n"
     ]
    }
   ],
   "source": [
    "dfs = dfl[dfl['property_type'].isin(['Apartment', 'Bed & Breakfast','Bungalow','Cabin','Chalet','Condominium','Dorm','Entire Floor','Guesthouse','House','Loft','Townhouse','Treehouse','Villa'])].copy()\n",
    "dfs['beds'].fillna(1, inplace=True)\n",
    "dfs['bathrooms'].fillna(1, inplace=True)\n",
    "dfs['security_deposit'].fillna(0, inplace=True)\n",
    "dfs['cleaning_fee'].fillna(0, inplace=True)\n",
    "dfs.info()"
   ]
  },
  {
   "cell_type": "code",
   "execution_count": 91,
   "metadata": {},
   "outputs": [],
   "source": [
    "#Next steps: Inner join to calendar to ruin availability by room type and/or property type"
   ]
  },
  {
   "cell_type": "code",
   "execution_count": null,
   "metadata": {},
   "outputs": [],
   "source": []
  }
 ],
 "metadata": {
  "kernelspec": {
   "display_name": "Python 3",
   "language": "python",
   "name": "python3"
  },
  "language_info": {
   "codemirror_mode": {
    "name": "ipython",
    "version": 3
   },
   "file_extension": ".py",
   "mimetype": "text/x-python",
   "name": "python",
   "nbconvert_exporter": "python",
   "pygments_lexer": "ipython3",
   "version": "3.7.4"
  }
 },
 "nbformat": 4,
 "nbformat_minor": 4
}
